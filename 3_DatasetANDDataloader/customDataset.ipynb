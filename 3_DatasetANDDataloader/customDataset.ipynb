{
 "cells": [
  {
   "cell_type": "code",
   "execution_count": null,
   "metadata": {},
   "outputs": [],
   "source": [
    "import torch \n",
    "from torch.utils.data import Dataset, DataLoader\n",
    "\n",
    "import pandas as pd\n",
    "import numpy as np\n",
    "import matplotlib.pyplot as plt\n",
    "from PIL import Image\n",
    "import cv2 as cv\n"
   ]
  },
  {
   "cell_type": "markdown",
   "metadata": {},
   "source": [
    "# Prepare dataset"
   ]
  },
  {
   "cell_type": "code",
   "execution_count": null,
   "metadata": {},
   "outputs": [],
   "source": [
    "data_dir = \"../sportClassification/data/sportData/\"\n",
    "data_df = pd.read_csv(data_dir+\"sports.csv\")\n",
    "data_df.head()"
   ]
  },
  {
   "cell_type": "code",
   "execution_count": null,
   "metadata": {},
   "outputs": [],
   "source": [
    "unique_labels = data_df.labels.unique().tolist()\n",
    "labels_map = dict()\n",
    "for i in unique_labels:\n",
    "    labels_map[i] = unique_labels.index(i)\n",
    "\n",
    "len(unique_labels)\n"
   ]
  },
  {
   "cell_type": "code",
   "execution_count": null,
   "metadata": {},
   "outputs": [],
   "source": [
    "data_df.shape"
   ]
  },
  {
   "cell_type": "code",
   "execution_count": null,
   "metadata": {},
   "outputs": [],
   "source": [
    "data_df.dataset.unique()"
   ]
  },
  {
   "cell_type": "code",
   "execution_count": null,
   "metadata": {},
   "outputs": [],
   "source": [
    "data_df.columns"
   ]
  },
  {
   "cell_type": "code",
   "execution_count": null,
   "metadata": {},
   "outputs": [],
   "source": [
    "image_dir = data_dir+data_df.filepaths.iloc[0]\n",
    "label = data_df.labels.iloc[0]\n",
    "label"
   ]
  },
  {
   "cell_type": "code",
   "execution_count": null,
   "metadata": {},
   "outputs": [],
   "source": [
    "def showSamples(df,filepathColumnName,labelColumnName,data_dir):\n",
    "    data_df = df\n",
    "    cols, rows = 4,2\n",
    "    fig = plt.figure(figsize=(10,5))\n",
    "    for i in range(1, cols * rows + 1):\n",
    "        sample_idx = torch.randint(data_df.shape[0], size=(1,)).item()\n",
    "        image_dir = data_dir+data_df[filepathColumnName].iloc[sample_idx]\n",
    "        img = Image.open(image_dir)\n",
    "        label = data_df[labelColumnName].iloc[sample_idx]\n",
    "        fig.add_subplot(rows, cols, i)\n",
    "        plt.title(label)\n",
    "        plt.axis(\"off\")\n",
    "        plt.imshow(img)\n",
    "    plt.show()\n",
    "    return"
   ]
  },
  {
   "cell_type": "code",
   "execution_count": null,
   "metadata": {},
   "outputs": [],
   "source": [
    "showSamples(df=data_df,filepathColumnName=\"filepaths\",labelColumnName=\"labels\",data_dir=data_dir)"
   ]
  },
  {
   "cell_type": "markdown",
   "metadata": {},
   "source": [
    "# Creating a Custom Dataset"
   ]
  },
  {
   "cell_type": "code",
   "execution_count": null,
   "metadata": {},
   "outputs": [],
   "source": [
    "df = data_df.copy()\n",
    "df_train = df[df[\"dataset\"]==\"train\"]\n",
    "df_test = df[df[\"dataset\"]==\"test\"]\n",
    "df_valid = df[df[\"dataset\"]==\"valid\"]\n",
    "df_train.head()"
   ]
  },
  {
   "cell_type": "code",
   "execution_count": null,
   "metadata": {},
   "outputs": [],
   "source": [
    "train_img_dirs = [data_dir+i for i in df_train[\"filepaths\"].to_list()]\n",
    "test_img_dirs = [data_dir+i for i in df_test[\"filepaths\"].to_list()]\n",
    "valid_img_dirs = [data_dir+i for i in df_valid[\"filepaths\"].to_list()]\n",
    "\n",
    "\n",
    "train_labels = df_train.labels.to_list()\n",
    "test_labels = df_test.labels.to_list()\n",
    "valid_labels = df_valid.labels.to_list()"
   ]
  },
  {
   "cell_type": "code",
   "execution_count": null,
   "metadata": {},
   "outputs": [],
   "source": [
    "class SportDataset(Dataset):\n",
    "    def __init__(self,paths,labels,unique_labels,transform=None,target_transform=None):\n",
    "        self.paths = paths\n",
    "        self.labels = labels\n",
    "        self.unique_labels = unique_labels\n",
    "        self.transform = transform\n",
    "        self.target_transform = target_transform\n",
    "\n",
    "    def __len__(self):\n",
    "        return len(self.labels)\n",
    "\n",
    "    def __getitem__(self,idx):\n",
    "        imgPath = self.paths[idx]\n",
    "        img = cv.imread(imgPath)\n",
    "        label = self.labels[idx]\n",
    "\n",
    "        if self.transform:\n",
    "            img = self.transform(img)\n",
    "        if self.target_transform:\n",
    "            label = self.target_transform(self.unique_labels,label)\n",
    "        \n",
    "        return img,label\n",
    "\n"
   ]
  },
  {
   "cell_type": "code",
   "execution_count": null,
   "metadata": {},
   "outputs": [],
   "source": [
    "def target_transforms(unique_labels,label):\n",
    "    \"\"\"\n",
    "    return one hot encoded tensors of the label\n",
    "    \"\"\"\n",
    "    label_one_hot = label==np.array(unique_labels)\n",
    "    label_tensors = torch.tensor(label_one_hot,dtype=torch.float)\n",
    "    return label_tensors\n",
    "\n",
    "def features_transforms(img):\n",
    "    \"\"\"\n",
    "    return normalize tensors of the img\n",
    "    \"\"\"\n",
    "    img = cv.resize(img,(224,224))\n",
    "    img = img.transpose((2,0,1)) #channel must come first \n",
    "    img = torch.tensor(img, dtype = torch.float)\n",
    "    img = img/255.0 #normalise img\n",
    "    \n",
    "    return img"
   ]
  },
  {
   "cell_type": "code",
   "execution_count": null,
   "metadata": {},
   "outputs": [],
   "source": [
    "train_dataset = SportDataset(train_img_dirs,train_labels,unique_labels,transform=features_transforms,target_transform=target_transforms)\n",
    "valid_dataset = SportDataset(valid_img_dirs,valid_labels,unique_labels,transform=features_transforms,target_transform=target_transforms)\n",
    "test_dataset = SportDataset(test_img_dirs,test_labels,unique_labels,transform=features_transforms,target_transform=target_transforms)\n",
    "\n"
   ]
  },
  {
   "cell_type": "markdown",
   "metadata": {},
   "source": [
    "# Preparing the data for training with DataLoaders"
   ]
  },
  {
   "cell_type": "code",
   "execution_count": null,
   "metadata": {},
   "outputs": [],
   "source": [
    "batch_size = 64\n",
    "train_dataloader = DataLoader(train_dataset,batch_size,shuffle=True)\n",
    "batch = next(iter(train_dataloader))\n",
    "X,y = batch"
   ]
  },
  {
   "cell_type": "code",
   "execution_count": null,
   "metadata": {},
   "outputs": [],
   "source": [
    "X.shape"
   ]
  },
  {
   "cell_type": "code",
   "execution_count": null,
   "metadata": {},
   "outputs": [],
   "source": [
    "y.shape"
   ]
  }
 ],
 "metadata": {
  "kernelspec": {
   "display_name": "pt",
   "language": "python",
   "name": "pt"
  },
  "language_info": {
   "codemirror_mode": {
    "name": "ipython",
    "version": 3
   },
   "file_extension": ".py",
   "mimetype": "text/x-python",
   "name": "python",
   "nbconvert_exporter": "python",
   "pygments_lexer": "ipython3",
   "version": "3.9.18"
  }
 },
 "nbformat": 4,
 "nbformat_minor": 2
}
