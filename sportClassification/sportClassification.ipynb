{
 "cells": [
  {
   "cell_type": "code",
   "execution_count": null,
   "metadata": {},
   "outputs": [],
   "source": [
    "import torch\n",
    "from torch import nn\n",
    "from torch.nn import functional as F\n",
    "from torch.optim import Adam\n",
    "from torch.utils.data import Dataset, DataLoader\n",
    "\n",
    "import timm\n",
    "\n",
    "import numpy as np\n",
    "import pandas as pd\n",
    "from tqdm.notebook import tqdm\n",
    "import glob\n",
    "import os\n",
    "from pathlib import Path\n",
    "import matplotlib.pyplot as plt\n",
    "import cv2 as cv"
   ]
  },
  {
   "cell_type": "code",
   "execution_count": null,
   "metadata": {},
   "outputs": [],
   "source": [
    "# train_dir = \"./data/sportData/train/\"\n",
    "# valid_dir = \"./data/sportData/valid/\"\n",
    "\n",
    "# train_img_dir = glob.glob(train_dir + \"*/*.*\")\n",
    "# valid_img_dir = glob.glob(valid_dir + \"*/*.*\")\n",
    "\n",
    "# data_base_dir = Path.cwd().joinpath(\"data\",\"sportData\")\n",
    "# df = pd.read_csv(data_base_dir.joinpath(\"sports.csv\"))\n",
    "\n",
    "# print(df[df[\"dataset\"]==\"train\"].shape[0] == len(train_img_dir))\n",
    "# print(df[df[\"dataset\"]==\"valid\"].shape[0] == len(valid_img_dir))\n",
    "\n"
   ]
  },
  {
   "cell_type": "code",
   "execution_count": null,
   "metadata": {},
   "outputs": [],
   "source": [
    "data_base_dir = Path.cwd().joinpath(\"data\",\"sportData\")\n",
    "df = pd.read_csv(data_base_dir.joinpath(\"sports.csv\"))\n",
    "df.head()"
   ]
  },
  {
   "cell_type": "code",
   "execution_count": null,
   "metadata": {},
   "outputs": [],
   "source": [
    "df_train = df[df[\"dataset\"]==\"train\"]\n",
    "df_test = df[df[\"dataset\"]==\"test\"]\n",
    "df_valid = df[df[\"dataset\"]==\"valid\"]\n",
    "df_train.head()"
   ]
  },
  {
   "cell_type": "code",
   "execution_count": null,
   "metadata": {},
   "outputs": [],
   "source": [
    "# df[df[\"filepaths\"]==\"train/high jump/159.lnk\"]"
   ]
  },
  {
   "cell_type": "code",
   "execution_count": null,
   "metadata": {},
   "outputs": [],
   "source": [
    "train_img_dirs = [str(data_base_dir.joinpath(i)) for i in df_train[\"filepaths\"].to_list()]\n",
    "test_img_dirs = [str(data_base_dir.joinpath(i)) for i in df_test[\"filepaths\"].to_list()]\n",
    "valid_img_dirs = [str(data_base_dir.joinpath(i)) for i in df_valid[\"filepaths\"].to_list()]\n",
    "\n",
    "\n",
    "train_labels = df_train.labels.to_list()\n",
    "test_labels = df_test.labels.to_list()\n",
    "valid_labels = df_valid.labels.to_list()\n",
    "\n",
    "print(valid_labels)"
   ]
  },
  {
   "cell_type": "code",
   "execution_count": null,
   "metadata": {},
   "outputs": [],
   "source": [
    "sample = cv.imread(train_img_dirs[300])\n",
    "sample = cv.resize(sample,(224,224))\n",
    "print(sample.shape)\n",
    "plt.imshow(sample)"
   ]
  },
  {
   "cell_type": "code",
   "execution_count": null,
   "metadata": {},
   "outputs": [],
   "source": []
  },
  {
   "cell_type": "code",
   "execution_count": null,
   "metadata": {},
   "outputs": [],
   "source": [
    "unique_labels = df_train[\"labels\"].unique()\n",
    "print(unique_labels)"
   ]
  },
  {
   "cell_type": "code",
   "execution_count": null,
   "metadata": {},
   "outputs": [],
   "source": [
    "one_hot = np.asarray('air hockey'==df_train[\"labels\"].unique())\n",
    "one_hot = torch.tensor(one_hot, dtype = torch.float)\n",
    "one_hot"
   ]
  },
  {
   "cell_type": "code",
   "execution_count": null,
   "metadata": {},
   "outputs": [],
   "source": [
    "DEVICE=\"mps\" if torch.backends.mps.is_built() else \"cpu\"\n",
    "DEVICE"
   ]
  },
  {
   "cell_type": "markdown",
   "metadata": {},
   "source": [
    "# Dataset Class"
   ]
  },
  {
   "cell_type": "code",
   "execution_count": null,
   "metadata": {},
   "outputs": [],
   "source": [
    "class SPORTS(Dataset):\n",
    "    def __init__(self, paths, labels, unique_labels):\n",
    "        #get all necessary inputs like train directories and labels\n",
    "        self.paths = paths\n",
    "        self.labels = np.asarray(labels)\n",
    "        self.unique_labels = np.asarray(unique_labels)\n",
    "\n",
    "\n",
    "        \n",
    "    def __len__(self,):\n",
    "        #return len of the dataset\n",
    "        return len(self.paths)\n",
    "    \n",
    "    def get_one_hot_encoding(self, cat):\n",
    "        one_hot = np.asarray(cat == self.unique_labels)\n",
    "        return one_hot\n",
    "        \n",
    "    def __getitem__(self, idx):\n",
    "        #get data for one id value..pytorch will handle the batching for you!\n",
    "    \n",
    "        img_dir = self.paths[idx]\n",
    "        label = self.labels[idx]\n",
    "\n",
    "        img = cv.imread(img_dir)\n",
    "        # img = cv.resize(img,(224,224))\n",
    "        one_hot = self.get_one_hot_encoding(label)\n",
    "\n",
    "        img = img.transpose((2,0,1)) #channel must come first \n",
    "        img = torch.tensor(img, dtype = torch.float)\n",
    "        one_hot = torch.tensor(one_hot, dtype = torch.float)\n",
    "        return img/255.0, one_hot\n",
    "        \n",
    "            \n",
    "\n",
    "        \n",
    "    "
   ]
  },
  {
   "cell_type": "code",
   "execution_count": null,
   "metadata": {},
   "outputs": [],
   "source": [
    "train_dataset = SPORTS(train_img_dirs,train_labels,unique_labels)\n",
    "test_dataset = SPORTS(test_img_dirs,test_labels,unique_labels)\n",
    "valid_dataset = SPORTS(valid_img_dirs,valid_labels,unique_labels)"
   ]
  },
  {
   "cell_type": "code",
   "execution_count": null,
   "metadata": {},
   "outputs": [],
   "source": [
    "img, label = train_dataset.__getitem__(500)\n",
    "img = img.numpy().transpose(1,2,0)\n",
    "plt.imshow(img)\n",
    "print(label)"
   ]
  },
  {
   "cell_type": "markdown",
   "metadata": {},
   "source": [
    "# Dataloader"
   ]
  },
  {
   "cell_type": "code",
   "execution_count": null,
   "metadata": {},
   "outputs": [],
   "source": [
    "train_dataloader = DataLoader(\n",
    "    train_dataset,\n",
    "    num_workers =1,\n",
    "    batch_size = 32,\n",
    "    shuffle = True\n",
    ")\n",
    "valid_dataloader = DataLoader(\n",
    "    valid_dataset,\n",
    "    num_workers =1,\n",
    "    batch_size = 32,\n",
    "    shuffle = True\n",
    ")"
   ]
  },
  {
   "cell_type": "markdown",
   "metadata": {},
   "source": [
    "# Model"
   ]
  },
  {
   "cell_type": "code",
   "execution_count": null,
   "metadata": {},
   "outputs": [],
   "source": [
    "timm.list_models()"
   ]
  },
  {
   "cell_type": "code",
   "execution_count": null,
   "metadata": {},
   "outputs": [],
   "source": [
    "class SportClassifier(nn.Module):\n",
    "    def __init__(self, num_classes):\n",
    "        #define necessary layers\n",
    "        super().__init__()\n",
    "        self.num_classes = num_classes      \n",
    "        self.model = timm.create_model(model_name = \"resnet34\", pretrained = True)\n",
    "        self.model.fc = nn.Linear(self.model.fc.in_features, out_features = num_classes)\n",
    "\n",
    "        \n",
    "    def forward(self,X):\n",
    "        #define forward pass here\n",
    "        return F.softmax(self.model(X), dim=-1)\n",
    "    \n",
    "model = SportClassifier(len(unique_labels)).to(DEVICE)\n",
    "print(model(torch.zeros((1, 3, 224, 224)).to(DEVICE)).shape)"
   ]
  },
  {
   "cell_type": "code",
   "execution_count": null,
   "metadata": {},
   "outputs": [],
   "source": [
    "# print(model.model)"
   ]
  },
  {
   "cell_type": "markdown",
   "metadata": {},
   "source": [
    "# Optimizer And Loss Function"
   ]
  },
  {
   "cell_type": "code",
   "execution_count": null,
   "metadata": {},
   "outputs": [],
   "source": [
    "optimizer = Adam(lr = 0.001, params = model.parameters())\n",
    "\n",
    "def loss_fn(y_pred, y_true):\n",
    "    #define your loss function here e.g crossEntropyLoss\n",
    "    y_pred = torch.clip(y_pred, 1e-8, 1-1e-8)\n",
    "    l = y_true*torch.log(y_pred)\n",
    "    l = l.sum(dim = -1)\n",
    "    l = l.mean()\n",
    "    return -l"
   ]
  },
  {
   "cell_type": "code",
   "execution_count": null,
   "metadata": {},
   "outputs": [],
   "source": []
  },
  {
   "cell_type": "markdown",
   "metadata": {},
   "source": [
    "# Training"
   ]
  },
  {
   "cell_type": "code",
   "execution_count": null,
   "metadata": {},
   "outputs": [],
   "source": [
    "def train_on_one_epoch(dataloader, optimizer, loss_fn, len_dataloader):\n",
    "    #training for one epoch\n",
    "    \n",
    "    dataloader = tqdm(dataloader)\n",
    "    L = 0\n",
    "    acc = 0\n",
    "    for i,(x, y) in enumerate(dataloader):\n",
    "        x = x.to(DEVICE)\n",
    "        y = y.to(DEVICE)\n",
    "        y_pred = model(x)\n",
    "        l = loss_fn(y_pred, y)\n",
    "        optimizer.zero_grad()\n",
    "        l.backward()\n",
    "        optimizer.step()\n",
    "        L+=l.item()\n",
    "        acc+=np.sum(y_pred.cpu().detach().numpy().argmax(-1) == y.cpu().detach().numpy().argmax(-1))\n",
    "    return L/len_dataloader, acc/len_dataloader"
   ]
  },
  {
   "cell_type": "code",
   "execution_count": null,
   "metadata": {},
   "outputs": [],
   "source": [
    "def valid_on_one_epoch(dataloader, loss_fn, len_dataloader):\n",
    "    #validation for one epoch\n",
    "    dataloader = tqdm(dataloader)\n",
    "    L = 0\n",
    "    acc = 0\n",
    "    for i,(x, y) in enumerate(dataloader):\n",
    "        x = x.to(DEVICE)\n",
    "        y = y.to(DEVICE)\n",
    "        y_pred = model(x)\n",
    "        l = loss_fn(y_pred, y)\n",
    "        L+=l.item()\n",
    "        acc+=np.sum(y_pred.cpu().detach().numpy().argmax(-1) == y.cpu().detach().numpy().argmax(-1))\n",
    "        \n",
    "    return L/len_dataloader, acc/len_dataloader"
   ]
  },
  {
   "cell_type": "code",
   "execution_count": null,
   "metadata": {},
   "outputs": [],
   "source": [
    "prev_valid_acc = 0\n",
    "for epoch in range(10):\n",
    "    train_loss, train_acc = train_on_one_epoch(train_dataloader, optimizer, loss_fn, len(train_dataset))\n",
    "    valid_loss, valid_acc = valid_on_one_epoch(valid_dataloader, loss_fn, len(valid_dataset))\n",
    "    print(f\"epoch : {epoch} | train loss : {train_loss} | valid_loss : {valid_loss} | train_acc : {train_acc} | valid_acc : {valid_acc}\")\n",
    "    if prev_valid_acc<valid_acc:\n",
    "        print(\"model saved..!!\")\n",
    "        torch.save(model.state_dict(), \"best.pt\")\n",
    "        prev_valid_acc = valid_acc"
   ]
  },
  {
   "cell_type": "code",
   "execution_count": null,
   "metadata": {},
   "outputs": [],
   "source": []
  }
 ],
 "metadata": {
  "kernelspec": {
   "display_name": "pt",
   "language": "python",
   "name": "pt"
  },
  "language_info": {
   "codemirror_mode": {
    "name": "ipython",
    "version": 3
   },
   "file_extension": ".py",
   "mimetype": "text/x-python",
   "name": "python",
   "nbconvert_exporter": "python",
   "pygments_lexer": "ipython3",
   "version": "3.9.18"
  }
 },
 "nbformat": 4,
 "nbformat_minor": 2
}
